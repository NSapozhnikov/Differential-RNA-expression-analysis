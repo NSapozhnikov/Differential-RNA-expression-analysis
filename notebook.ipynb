{
 "cells": [
  {
   "cell_type": "markdown",
   "metadata": {},
   "source": [
    "# Differential RNA expression analysis\n",
    "\n",
    "BI practicum 6\n",
    "\n",
    "In this project we will study changes that happen in yeast cells before or during fermentation. We will explore how RNA expression levels change as yeast undergo fermentation to make bread rise. There are two replicates of RNA-seq data from yeast before and during fermentation, and our goal is to find out if the yeast express different genes during fermentation than they do under normal growth.\n",
    "\n"
   ]
  },
  {
   "cell_type": "markdown",
   "metadata": {},
   "source": [
    "## 1. Data"
   ]
  },
  {
   "cell_type": "markdown",
   "metadata": {},
   "source": [
    "**yeast reads:**\n",
    "\n",
    "SRR941816: fermentation 0 minutes replicate 1 \\\n",
    "[ftp.sra.ebi.ac.uk/vol1/fastq/SRR941/SRR941816/SRR941816.fastq.gz](http://ftp.sra.ebi.ac.uk/vol1/fastq/SRR941/SRR941816/SRR941816.fastq.gz) \\\n",
    "SRR941817: fermentation 0 minutes replicate 2 \\\n",
    "[ftp.sra.ebi.ac.uk/vol1/fastq/SRR941/SRR941817/SRR941817.fastq.gz](http://ftp.sra.ebi.ac.uk/vol1/fastq/SRR941/SRR941817/SRR941817.fastq.gz) \\\n",
    "SRR941818: fermentation 30 minutes replicate 1 \\\n",
    "[ftp.sra.ebi.ac.uk/vol1/fastq/SRR941/SRR941818/SRR941818.fastq.gz](http://ftp.sra.ebi.ac.uk/vol1/fastq/SRR941/SRR941818/SRR941818.fastq.gz) \\\n",
    "SRR941819: fermentation 30 minutes replicate 2 \\\n",
    "[ftp.sra.ebi.ac.uk/vol1/fastq/SRR941/SRR941819/SRR941819.fastq.gz](http://ftp.sra.ebi.ac.uk/vol1/fastq/SRR941/SRR941819/SRR941819.fastq.gz)\n",
    "\n",
    "\n",
    "As a reference genome we will use Saccharomyces cerevisiae, in the genome database at NCBI. Make sure you have strain S288c and assembly R64. Download the reference genome in FASTA format and annotation in GFF format.\n",
    "\n",
    "reference genome file: \n",
    "[ftp.ncbi.nlm.nih.gov/genomes/all/GCF/000/146/045/GCF_000146045.2_R64/GCF_000146045.2_R64_genomic.fna.gz](http://ftp.ncbi.nlm.nih.gov/genomes/all/GCF/000/146/045/GCF_000146045.2_R64/GCF_000146045.2_R64_genomic.fna.gz)\n",
    "\n",
    "annotation file:\n",
    "[ftp.ncbi.nlm.nih.gov/genomes/all/GCF/000/146/045/GCF_000146045.2_R64/GCF_000146045.2_R64_genomic.gff.gz](http://ftp.ncbi.nlm.nih.gov/genomes/all/GCF/000/146/045/GCF_000146045.2_R64/GCF_000146045.2_R64_genomic.gff.gz)\n"
   ]
  },
  {
   "cell_type": "markdown",
   "metadata": {},
   "source": [
    "## 2. Analysis Pipeline"
   ]
  },
  {
   "cell_type": "markdown",
   "metadata": {},
   "source": [
    "There are plenty of different tools aiming to solve this task. Hereafter you can find a pipeline describing HISAT2 + deseq2, but you can try any aligner and DE count package of your choice. It’s worth checking out kallisto + sleuth (kallisto is based on an interesting algorithmic approach of pseudoalignment. And it’s blazingly fast.) \n",
    "\n",
    "\n",
    "For deseq2 you can find [here](https://figshare.com/articles/software/Scripts_for_RNA-seq_project/14239304) two scripts that can be useful for analysis (you also can try to write your own). \n"
   ]
  },
  {
   "cell_type": "markdown",
   "metadata": {},
   "source": [
    "### **a.** Aligning with HISAT2\n",
    "build genome index:\n",
    "- install hisat2\n",
    "```\n",
    "conda install bioconda::hisat2\n",
    "```\n",
    "\n",
    "- run hisat2-build\n",
    "```\n",
    "hisat2-build data/GCF_000146045.2_R64_genomic.fna data/GCF_000146045.2_R64_genomic.index\n",
    "```\n",
    "\n",
    "- run hisat2 in single-end mode:\n",
    "```\n",
    "hisat2 -p 5 -x data/GCF_000146045.2_R64_genomic.index -U data/SRR941816.fastq.gz | samtools sort > data/SRR941816.sorted.bam\n",
    "hisat2 -p 5 -x data/GCF_000146045.2_R64_genomic.index -U data/SRR941817.fastq.gz | samtools sort > data/SRR941817.sorted.bam\n",
    "hisat2 -p 5 -x data/GCF_000146045.2_R64_genomic.index -U data/SRR941818.fastq.gz | samtools sort > data/SRR941818.sorted.bam\n",
    "hisat2 -p 5 -x data/GCF_000146045.2_R64_genomic.index -U data/SRR941819.fastq.gz | samtools sort > data/SRR941819.sorted.bam\n",
    "```\n"
   ]
  },
  {
   "cell_type": "markdown",
   "metadata": {},
   "source": [
    "### **b.** Quantifying with featureCounts\n",
    "\n",
    "\n",
    "featureCounts can not work with GFF files. We need to convert the GFF file to GTF format. For this purpose we will use gffread. \n",
    "\n",
    "- install gffread:\n",
    "```\n",
    "conda install gffread\n",
    "``` \n",
    "\n",
    "- convert from GFF to GTF:\n",
    "```\n",
    "gffread data/GCF_000146045.2_R64_genomic.gff -T -o data/GCF_000146045.2_R64_genomic.gtf\n",
    "```\n",
    "\n",
    "- run the feature counts program:\n",
    "```\n",
    "conda install bioconda::subread\n",
    "```\n",
    "\n",
    "```\n",
    "featureCounts -g gene_id -a data/GCF_000146045.2_R64_genomic.gtf -o data/gene_counts.txt data/SRR941816.sorted.bam data/SRR941817.sorted.bam data/SRR941818.sorted.bam data/SRR941819.sorted.bam\n",
    "```\n",
    "\n",
    "Apparently, there are some rows where gene_id is missing and the file is not parsed correctly during the transformation. Consider removing those rows or use the original .gff with:\n",
    "```\n",
    "featureCounts -t gene -g ID -a data/GCF_000146045.2_R64_genomic.gff -o data/gene_counts.txt data/SRR941816.sorted.bam data/SRR941817.sorted.bam data/SRR941818.sorted.bam data/SRR941819.sorted.bam\n",
    "```\n",
    "\n",
    "We don’t need all columns from featureCounts output file for further analysis, so let’s simplify it.\n",
    "\n",
    "- simplify the counts:\n",
    "```\n",
    "cat data/gene_counts.txt | cut -f 1,7-10 > data/simple_counts.txt\n",
    "```"
   ]
  },
  {
   "cell_type": "markdown",
   "metadata": {},
   "source": [
    "### **c.** Find differentially expressed genes with Deseq2\n",
    "\n",
    "- calculate metrics:\n",
    "```\n",
    "cat data/simple_counts.txt | R -f src/deseq2.r\n",
    "```\n",
    "\n",
    "This script generates following files:\n",
    "* result.txt will contain calculated metrics for our genes\n",
    "* norm-matrix-deseq2.txt will contain normalised counts that we will use in visualisation\n",
    "\n",
    "- draw heatmap:\n",
    "```\n",
    "cat norm-matrix-deseq2.txt | R -f src/draw-heatmap.r\n",
    "```\n",
    "\n",
    "Look at the output.pdf file."
   ]
  },
  {
   "cell_type": "markdown",
   "metadata": {},
   "source": [
    "## 3. Result Interpretation\n"
   ]
  },
  {
   "cell_type": "markdown",
   "metadata": {},
   "source": [
    "In the result.txt file genes are sorted by adjusted p-values. Take the first 50 genes from this file (take the 1st column, take only the second element of splitted by '-' list):\n",
    "```\n",
    "head -n 50 result.txt | cut -f 1 | cut -d \"-\" -f 2 > genes.txt\n",
    "```\n",
    "\n",
    "Use gene ontology terms to get a sense of what these genes are doing\n",
    "\n",
    "The [Saccharomyces Genome Database](http://www.yeastgenome.org/cgi-bin/GO/goSlimMapper.pl), maintained by Stanford, contains all of the GO terms associated with yeast.\n"
   ]
  },
  {
   "cell_type": "markdown",
   "metadata": {},
   "source": [
    "<html><body>\n",
    "<br><b>These 2 identifier(s) represent either invalid gene names, dubious ORFs unlikely to encode functional proteins or genes which are currently unannotated:</b> YER127W YLR264C<br><br><b>These 8 identifier(s) represent valid gene names that either could not be mapped to terms in the current GO slim set or are currently annotated to the root node for the slim set being used:</b> YGR079W YKL120W YLR327C YBL028C YOR360C YJL108C YJL107C YML018C<br><center>\n",
    "<table border=0 cellpadding=2>\n",
    "<tr align=center>\n",
    "<td colspan=5><b>GO Terms from the biological process Ontology</b></td></tr>\n",
    "<tr bgcolor=#993300>\n",
    "<th align=center nowrap><font color=#FFFFFF>GO Term (GO ID)</font></th>\n",
    "<th align=center><font color=#FFFFFF>Genes Annotated to the GO Term</font></th>\n",
    "<th align=center><font color=#FFFFFF>GO Term Usage in Gene List</font></th>\n",
    "<th align=center><font color=#FFFFFF>Genome Frequency of Use</font></th>\n",
    "</tr>\n",
    "<tr style=\"color:black;\", bgcolor=\"FFE4C4\"><td align=\"left\" nowrap=\"\"><a target=\"infowin\" href=\"https://www.yeastgenome.org/go/GO:0006364\">rRNA processing</a> ( GO:0006364 )</td> <td align=\"left\"><a target=\"infowin\" href= \"https://www.yeastgenome.org/locus/YDR449C\">YDR449C</a>, <a target=\"infowin\" href= \"https://www.yeastgenome.org/locus/YEL026W\">YEL026W</a>, <a target=\"infowin\" href= \"https://www.yeastgenome.org/locus/YGR159C\">YGR159C</a>, <a target=\"infowin\" href= \"https://www.yeastgenome.org/locus/YHR066W\">YHR066W</a>, <a target=\"infowin\" href= \"https://www.yeastgenome.org/locus/YHR196W\">YHR196W</a>, <a target=\"infowin\" href= \"https://www.yeastgenome.org/locus/YJL069C\">YJL069C</a>, <a target=\"infowin\" href= \"https://www.yeastgenome.org/locus/YMR093W\">YMR093W</a>, <a target=\"infowin\" href= \"https://www.yeastgenome.org/locus/YNL112W\">YNL112W</a>, <a target=\"infowin\" href= \"https://www.yeastgenome.org/locus/YNL182C\">YNL182C</a>, <a target=\"infowin\" href= \"https://www.yeastgenome.org/locus/YOL041C\">YOL041C</a>, <a target=\"infowin\" href= \"https://www.yeastgenome.org/locus/YOL080C\">YOL080C</a></td> <td align=\"left\" nowrap=\"\">11 of 47 genes, 23.40%</td> <td align=\"left\" nowrap=\"\">327 of 6479 annotated genes, 5.05%</td></tr> \n",
    "<tr style=\"color:black;\", bgcolor=\"DEB887\"><td align=\"left\" nowrap=\"\"><a target=\"infowin\" href=\"https://www.yeastgenome.org/go/GO:0042273\">ribosomal large subunit biogenesis</a> ( GO:0042273 )</td> <td align=\"left\"><a target=\"infowin\" href= \"https://www.yeastgenome.org/locus/YCR072C\">YCR072C</a>, <a target=\"infowin\" href= \"https://www.yeastgenome.org/locus/YDL063C\">YDL063C</a>, <a target=\"infowin\" href= \"https://www.yeastgenome.org/locus/YHR066W\">YHR066W</a>, <a target=\"infowin\" href= \"https://www.yeastgenome.org/locus/YIR012W\">YIR012W</a>, <a target=\"infowin\" href= \"https://www.yeastgenome.org/locus/YJL122W\">YJL122W</a>, <a target=\"infowin\" href= \"https://www.yeastgenome.org/locus/YNL182C\">YNL182C</a>, <a target=\"infowin\" href= \"https://www.yeastgenome.org/locus/YOL041C\">YOL041C</a>, <a target=\"infowin\" href= \"https://www.yeastgenome.org/locus/YOL080C\">YOL080C</a></td> <td align=\"left\" nowrap=\"\">8 of 47 genes, 17.02%</td> <td align=\"left\" nowrap=\"\">120 of 6479 annotated genes, 1.85%</td></tr> \n",
    "<tr style=\"color:black;\", bgcolor=\"FFE4C4\"><td align=\"left\" nowrap=\"\"><a target=\"infowin\" href=\"https://www.yeastgenome.org/go/GO:0042274\">ribosomal small subunit biogenesis</a> ( GO:0042274 )</td> <td align=\"left\"><a target=\"infowin\" href= \"https://www.yeastgenome.org/locus/YDR449C\">YDR449C</a>, <a target=\"infowin\" href= \"https://www.yeastgenome.org/locus/YEL026W\">YEL026W</a>, <a target=\"infowin\" href= \"https://www.yeastgenome.org/locus/YGR159C\">YGR159C</a>, <a target=\"infowin\" href= \"https://www.yeastgenome.org/locus/YHR196W\">YHR196W</a>, <a target=\"infowin\" href= \"https://www.yeastgenome.org/locus/YJL069C\">YJL069C</a>, <a target=\"infowin\" href= \"https://www.yeastgenome.org/locus/YMR093W\">YMR093W</a></td> <td align=\"left\" nowrap=\"\">6 of 47 genes, 12.77%</td> <td align=\"left\" nowrap=\"\">135 of 6479 annotated genes, 2.08%</td></tr> \n",
    "<tr style=\"color:black;\", bgcolor=\"DEB887\"><td align=\"left\" nowrap=\"\"><a target=\"infowin\" href=\"https://www.yeastgenome.org/go/GO:0006360\">transcription by RNA polymerase I</a> ( GO:0006360 )</td> <td align=\"left\"><a target=\"infowin\" href= \"https://www.yeastgenome.org/locus/YHR196W\">YHR196W</a>, <a target=\"infowin\" href= \"https://www.yeastgenome.org/locus/YJL148W\">YJL148W</a>, <a target=\"infowin\" href= \"https://www.yeastgenome.org/locus/YJR063W\">YJR063W</a>, <a target=\"infowin\" href= \"https://www.yeastgenome.org/locus/YML043C\">YML043C</a>, <a target=\"infowin\" href= \"https://www.yeastgenome.org/locus/YMR093W\">YMR093W</a>, <a target=\"infowin\" href= \"https://www.yeastgenome.org/locus/YNL248C\">YNL248C</a></td> <td align=\"left\" nowrap=\"\">6 of 47 genes, 12.77%</td> <td align=\"left\" nowrap=\"\">69 of 6479 annotated genes, 1.06%</td></tr> \n",
    "<tr style=\"color:black;\", bgcolor=\"FFE4C4\"><td align=\"left\" nowrap=\"\"><a target=\"infowin\" href=\"https://www.yeastgenome.org/go/GO:0042255\">ribosome assembly</a> ( GO:0042255 )</td> <td align=\"left\"><a target=\"infowin\" href= \"https://www.yeastgenome.org/locus/YCR072C\">YCR072C</a>, <a target=\"infowin\" href= \"https://www.yeastgenome.org/locus/YGR159C\">YGR159C</a>, <a target=\"infowin\" href= \"https://www.yeastgenome.org/locus/YHR066W\">YHR066W</a>, <a target=\"infowin\" href= \"https://www.yeastgenome.org/locus/YIR012W\">YIR012W</a>, <a target=\"infowin\" href= \"https://www.yeastgenome.org/locus/YNL182C\">YNL182C</a>, <a target=\"infowin\" href= \"https://www.yeastgenome.org/locus/YOL080C\">YOL080C</a></td> <td align=\"left\" nowrap=\"\">6 of 47 genes, 12.77%</td> <td align=\"left\" nowrap=\"\">74 of 6479 annotated genes, 1.14%</td></tr> \n",
    "<tr style=\"color:black;\", bgcolor=\"DEB887\"><td align=\"left\" nowrap=\"\"><a target=\"infowin\" href=\"https://www.yeastgenome.org/go/GO:0055086\">nucleobase-containing small molecule metabolic process</a> ( GO:0055086 )</td> <td align=\"left\"><a target=\"infowin\" href= \"https://www.yeastgenome.org/locus/YBL039C\">YBL039C</a>, <a target=\"infowin\" href= \"https://www.yeastgenome.org/locus/YMR300C\">YMR300C</a>, <a target=\"infowin\" href= \"https://www.yeastgenome.org/locus/YNL141W\">YNL141W</a>, <a target=\"infowin\" href= \"https://www.yeastgenome.org/locus/YOL136C\">YOL136C</a></td> <td align=\"left\" nowrap=\"\">4 of 47 genes, 8.51%</td> <td align=\"left\" nowrap=\"\">190 of 6479 annotated genes, 2.93%</td></tr> \n",
    "<tr style=\"color:black;\", bgcolor=\"FFE4C4\"><td align=\"left\" nowrap=\"\"><a target=\"infowin\" href=\"https://www.yeastgenome.org/go/GO:0005975\">carbohydrate metabolic process</a> ( GO:0005975 )</td> <td align=\"left\"><a target=\"infowin\" href= \"https://www.yeastgenome.org/locus/YBR105C\">YBR105C</a>, <a target=\"infowin\" href= \"https://www.yeastgenome.org/locus/YER062C\">YER062C</a>, <a target=\"infowin\" href= \"https://www.yeastgenome.org/locus/YKR097W\">YKR097W</a>, <a target=\"infowin\" href= \"https://www.yeastgenome.org/locus/YOL136C\">YOL136C</a></td> <td align=\"left\" nowrap=\"\">4 of 47 genes, 8.51%</td> <td align=\"left\" nowrap=\"\">157 of 6479 annotated genes, 2.42%</td></tr> \n",
    "<tr style=\"color:black;\", bgcolor=\"DEB887\"><td align=\"left\" nowrap=\"\"><a target=\"infowin\" href=\"https://www.yeastgenome.org/go/GO:0006401\">RNA catabolic process</a> ( GO:0006401 )</td> <td align=\"left\"><a target=\"infowin\" href= \"https://www.yeastgenome.org/locus/YLR264W\">YLR264W</a>, <a target=\"infowin\" href= \"https://www.yeastgenome.org/locus/YNL112W\">YNL112W</a>, <a target=\"infowin\" href= \"https://www.yeastgenome.org/locus/YOR359W\">YOR359W</a></td> <td align=\"left\" nowrap=\"\">3 of 47 genes, 6.38%</td> <td align=\"left\" nowrap=\"\">162 of 6479 annotated genes, 2.50%</td></tr> \n",
    "<tr style=\"color:black;\", bgcolor=\"FFE4C4\"><td align=\"left\" nowrap=\"\"><a target=\"infowin\" href=\"https://www.yeastgenome.org/go/GO:0055085\">transmembrane transport</a> ( GO:0055085 )</td> <td align=\"left\"><a target=\"infowin\" href= \"https://www.yeastgenome.org/locus/YDR536W\">YDR536W</a>, <a target=\"infowin\" href= \"https://www.yeastgenome.org/locus/YHR094C\">YHR094C</a>, <a target=\"infowin\" href= \"https://www.yeastgenome.org/locus/YNL065W\">YNL065W</a></td> <td align=\"left\" nowrap=\"\">3 of 47 genes, 6.38%</td> <td align=\"left\" nowrap=\"\">273 of 6479 annotated genes, 4.21%</td></tr> \n",
    "<tr style=\"color:black;\", bgcolor=\"DEB887\"><td align=\"left\" nowrap=\"\"><a target=\"infowin\" href=\"https://www.yeastgenome.org/go/GO:0008643\">carbohydrate transport</a> ( GO:0008643 )</td> <td align=\"left\"><a target=\"infowin\" href= \"https://www.yeastgenome.org/locus/YDR536W\">YDR536W</a>, <a target=\"infowin\" href= \"https://www.yeastgenome.org/locus/YHR094C\">YHR094C</a></td> <td align=\"left\" nowrap=\"\">2 of 47 genes, 4.26%</td> <td align=\"left\" nowrap=\"\">36 of 6479 annotated genes, 0.56%</td></tr> \n",
    "<tr style=\"color:black;\", bgcolor=\"FFE4C4\"><td align=\"left\" nowrap=\"\"><a target=\"infowin\" href=\"https://www.yeastgenome.org/go/GO:0006354\">DNA-templated transcription elongation</a> ( GO:0006354 )</td> <td align=\"left\"><a target=\"infowin\" href= \"https://www.yeastgenome.org/locus/YJL148W\">YJL148W</a>, <a target=\"infowin\" href= \"https://www.yeastgenome.org/locus/YNL248C\">YNL248C</a></td> <td align=\"left\" nowrap=\"\">2 of 47 genes, 4.26%</td> <td align=\"left\" nowrap=\"\">105 of 6479 annotated genes, 1.62%</td></tr> \n",
    "<tr style=\"color:black;\", bgcolor=\"DEB887\"><td align=\"left\" nowrap=\"\"><a target=\"infowin\" href=\"https://www.yeastgenome.org/go/GO:0006353\">DNA-templated transcription termination</a> ( GO:0006353 )</td> <td align=\"left\"><a target=\"infowin\" href= \"https://www.yeastgenome.org/locus/YJR063W\">YJR063W</a>, <a target=\"infowin\" href= \"https://www.yeastgenome.org/locus/YNL112W\">YNL112W</a></td> <td align=\"left\" nowrap=\"\">2 of 47 genes, 4.26%</td> <td align=\"left\" nowrap=\"\">42 of 6479 annotated genes, 0.65%</td></tr> \n",
    "<tr style=\"color:black;\", bgcolor=\"FFE4C4\"><td align=\"left\" nowrap=\"\"><a target=\"infowin\" href=\"https://www.yeastgenome.org/go/GO:0051052\">regulation of DNA metabolic process</a> ( GO:0051052 )</td> <td align=\"left\"><a target=\"infowin\" href= \"https://www.yeastgenome.org/locus/YNL182C\">YNL182C</a>, <a target=\"infowin\" href= \"https://www.yeastgenome.org/locus/YOR359W\">YOR359W</a></td> <td align=\"left\" nowrap=\"\">2 of 47 genes, 4.26%</td> <td align=\"left\" nowrap=\"\">117 of 6479 annotated genes, 1.81%</td></tr> \n",
    "<tr style=\"color:black;\", bgcolor=\"DEB887\"><td align=\"left\" nowrap=\"\"><a target=\"infowin\" href=\"https://www.yeastgenome.org/go/GO:0006366\">transcription by RNA polymerase II</a> ( GO:0006366 )</td> <td align=\"left\"><a target=\"infowin\" href= \"https://www.yeastgenome.org/locus/YJR063W\">YJR063W</a>, <a target=\"infowin\" href= \"https://www.yeastgenome.org/locus/YNL112W\">YNL112W</a></td> <td align=\"left\" nowrap=\"\">2 of 47 genes, 4.26%</td> <td align=\"left\" nowrap=\"\">489 of 6479 annotated genes, 7.55%</td></tr> \n",
    "<tr style=\"color:black;\", bgcolor=\"FFE4C4\"><td align=\"left\" nowrap=\"\"><a target=\"infowin\" href=\"https://www.yeastgenome.org/go/GO:0051603\">proteolysis involved in protein catabolic process</a> ( GO:0051603 )</td> <td align=\"left\"><a target=\"infowin\" href= \"https://www.yeastgenome.org/locus/YBR105C\">YBR105C</a>, <a target=\"infowin\" href= \"https://www.yeastgenome.org/locus/YLR224W\">YLR224W</a></td> <td align=\"left\" nowrap=\"\">2 of 47 genes, 4.26%</td> <td align=\"left\" nowrap=\"\">218 of 6479 annotated genes, 3.36%</td></tr> \n",
    "<tr style=\"color:black;\", bgcolor=\"DEB887\"><td align=\"left\" nowrap=\"\"><a target=\"infowin\" href=\"https://www.yeastgenome.org/go/GO:0009451\">RNA modification</a> ( GO:0009451 )</td> <td align=\"left\"><a target=\"infowin\" href= \"https://www.yeastgenome.org/locus/YOL124C\">YOL124C</a>, <a target=\"infowin\" href= \"https://www.yeastgenome.org/locus/YPL212C\">YPL212C</a></td> <td align=\"left\" nowrap=\"\">2 of 47 genes, 4.26%</td> <td align=\"left\" nowrap=\"\">175 of 6479 annotated genes, 2.70%</td></tr> \n",
    "<tr style=\"color:black;\", bgcolor=\"FFE4C4\"><td align=\"left\" nowrap=\"\"><a target=\"infowin\" href=\"https://www.yeastgenome.org/go/GO:0006629\">lipid metabolic process</a> ( GO:0006629 )</td> <td align=\"left\"><a target=\"infowin\" href= \"https://www.yeastgenome.org/locus/YBL039C\">YBL039C</a>, <a target=\"infowin\" href= \"https://www.yeastgenome.org/locus/YOL151W\">YOL151W</a></td> <td align=\"left\" nowrap=\"\">2 of 47 genes, 4.26%</td> <td align=\"left\" nowrap=\"\">312 of 6479 annotated genes, 4.82%</td></tr> \n",
    "<tr style=\"color:black;\", bgcolor=\"DEB887\"><td align=\"left\" nowrap=\"\"><a target=\"infowin\" href=\"https://www.yeastgenome.org/go/GO:0008033\">tRNA processing</a> ( GO:0008033 )</td> <td align=\"left\"><a target=\"infowin\" href= \"https://www.yeastgenome.org/locus/YOL124C\">YOL124C</a>, <a target=\"infowin\" href= \"https://www.yeastgenome.org/locus/YPL212C\">YPL212C</a></td> <td align=\"left\" nowrap=\"\">2 of 47 genes, 4.26%</td> <td align=\"left\" nowrap=\"\">119 of 6479 annotated genes, 1.84%</td></tr> <tr style=\"color:black;\", bgcolor=\"FFE4C4\"><td align=\"left\" nowrap=\"\"><a target=\"infowin\" href=\"https://www.yeastgenome.org/go/GO:0015931\">nucleobase-containing compound transport</a> ( GO:0015931 )</td> <td align=\"left\"><a target=\"infowin\" href= \"https://www.yeastgenome.org/locus/YHR196W\">YHR196W</a></td> <td align=\"left\" nowrap=\"\">1 of 47 genes, 2.13%</td> <td align=\"left\" nowrap=\"\">122 of 6479 annotated genes, 1.88%</td></tr> \n",
    "<tr style=\"color:black;\", bgcolor=\"DEB887\"><td align=\"left\" nowrap=\"\"><a target=\"infowin\" href=\"https://www.yeastgenome.org/go/GO:0006970\">response to osmotic stress</a> ( GO:0006970 )</td> <td align=\"left\"><a target=\"infowin\" href= \"https://www.yeastgenome.org/locus/YER062C\">YER062C</a></td> <td align=\"left\" nowrap=\"\">1 of 47 genes, 2.13%</td> <td align=\"left\" nowrap=\"\">86 of 6479 annotated genes, 1.33%</td></tr> \n",
    "<tr style=\"color:black;\", bgcolor=\"FFE4C4\"><td align=\"left\" nowrap=\"\"><a target=\"infowin\" href=\"https://www.yeastgenome.org/go/GO:0006605\">protein targeting</a> ( GO:0006605 )</td> <td align=\"left\"><a target=\"infowin\" href= \"https://www.yeastgenome.org/locus/YBR105C\">YBR105C</a></td> <td align=\"left\" nowrap=\"\">1 of 47 genes, 2.13%</td> <td align=\"left\" nowrap=\"\">216 of 6479 annotated genes, 3.33%</td></tr> \n",
    "<tr style=\"color:black;\", bgcolor=\"DEB887\"><td align=\"left\" nowrap=\"\"><a target=\"infowin\" href=\"https://www.yeastgenome.org/go/GO:0006397\">mRNA processing</a> ( GO:0006397 )</td> <td align=\"left\"><a target=\"infowin\" href= \"https://www.yeastgenome.org/locus/YEL026W\">YEL026W</a></td> <td align=\"left\" nowrap=\"\">1 of 47 genes, 2.13%</td> <td align=\"left\" nowrap=\"\">170 of 6479 annotated genes, 2.62%</td></tr> <tr style=\"color:black;\", bgcolor=\"FFE4C4\"><td align=\"left\" nowrap=\"\"><a target=\"infowin\" href=\"https://www.yeastgenome.org/go/GO:0006260\">DNA replication</a> ( GO:0006260 )</td> <td align=\"left\"><a target=\"infowin\" href= \"https://www.yeastgenome.org/locus/YNL182C\">YNL182C</a></td> <td align=\"left\" nowrap=\"\">1 of 47 genes, 2.13%</td> <td align=\"left\" nowrap=\"\">138 of 6479 annotated genes, 2.13%</td></tr> <tr style=\"color:black;\", bgcolor=\"DEB887\"><td align=\"left\" nowrap=\"\"><a target=\"infowin\" href=\"https://www.yeastgenome.org/go/GO:0042221\">response to chemical</a> ( GO:0042221 )</td> <td align=\"left\"><a target=\"infowin\" href= \"https://www.yeastgenome.org/locus/YOR271C\">YOR271C</a></td> <td align=\"left\" nowrap=\"\">1 of 47 genes, 2.13%</td> <td align=\"left\" nowrap=\"\">469 of 6479 annotated genes, 7.24%</td></tr> \n",
    "<tr style=\"color:black;\", bgcolor=\"FFE4C4\"><td align=\"left\" nowrap=\"\"><a target=\"infowin\" href=\"https://www.yeastgenome.org/go/GO:0070925\">organelle assembly</a> ( GO:0070925 )</td> <td align=\"left\"><a target=\"infowin\" href= \"https://www.yeastgenome.org/locus/YLR180W\">YLR180W</a></td> <td align=\"left\" nowrap=\"\">1 of 47 genes, 2.13%</td> <td align=\"left\" nowrap=\"\">113 of 6479 annotated genes, 1.74%</td></tr> \n",
    "<tr style=\"color:black;\", bgcolor=\"DEB887\"><td align=\"left\" nowrap=\"\"><a target=\"infowin\" href=\"https://www.yeastgenome.org/go/GO:0008380\">RNA splicing</a> ( GO:0008380 )</td> <td align=\"left\"><a target=\"infowin\" href= \"https://www.yeastgenome.org/locus/YEL026W\">YEL026W</a></td> <td align=\"left\" nowrap=\"\">1 of 47 genes, 2.13%</td> <td align=\"left\" nowrap=\"\">139 of 6479 annotated genes, 2.15%</td></tr> <tr style=\"color:black;\", bgcolor=\"FFE4C4\"><td align=\"left\" nowrap=\"\"><a target=\"infowin\" href=\"https://www.yeastgenome.org/go/GO:0006418\">tRNA aminoacylation for protein translation</a> ( GO:0006418 )</td> <td align=\"left\"><a target=\"infowin\" href= \"https://www.yeastgenome.org/locus/YDR037W\">YDR037W</a></td> <td align=\"left\" nowrap=\"\">1 of 47 genes, 2.13%</td> <td align=\"left\" nowrap=\"\">36 of 6479 annotated genes, 0.56%</td></tr> \n",
    "<tr style=\"color:black;\", bgcolor=\"DEB887\"><td align=\"left\" nowrap=\"\"><a target=\"infowin\" href=\"https://www.yeastgenome.org/go/GO:0000054\">ribosomal subunit export from nucleus</a> ( GO:0000054 )</td> <td align=\"left\"><a target=\"infowin\" href= \"https://www.yeastgenome.org/locus/YLR264W\">YLR264W</a></td> <td align=\"left\" nowrap=\"\">1 of 47 genes, 2.13%</td> <td align=\"left\" nowrap=\"\">67 of 6479 annotated genes, 1.03%</td></tr> \n",
    "<tr style=\"color:black;\", bgcolor=\"FFE4C4\"><td align=\"left\" nowrap=\"\"><a target=\"infowin\" href=\"https://www.yeastgenome.org/go/GO:0033043\">regulation of organelle organization</a> ( GO:0033043 )</td> <td align=\"left\"><a target=\"infowin\" href= \"https://www.yeastgenome.org/locus/YLR180W\">YLR180W</a></td> <td align=\"left\" nowrap=\"\">1 of 47 genes, 2.13%</td> <td align=\"left\" nowrap=\"\">236 of 6479 annotated genes, 3.64%</td></tr> \n",
    "<tr style=\"color:black;\", bgcolor=\"DEB887\"><td align=\"left\" nowrap=\"\"><a target=\"infowin\" href=\"https://www.yeastgenome.org/go/GO:0006520\">amino acid metabolic process</a> ( GO:0006520 )</td> <td align=\"left\"><a target=\"infowin\" href= \"https://www.yeastgenome.org/locus/YLR180W\">YLR180W</a></td> <td align=\"left\" nowrap=\"\">1 of 47 genes, 2.13%</td> <td align=\"left\" nowrap=\"\">159 of 6479 annotated genes, 2.45%</td></tr> <tr style=\"color:black;\", bgcolor=\"FFE4C4\"><td align=\"left\" nowrap=\"\"><a target=\"infowin\" href=\"https://www.yeastgenome.org/go/GO:0006865\">amino acid transport</a> ( GO:0006865 )</td> <td align=\"left\"><a target=\"infowin\" href= \"https://www.yeastgenome.org/locus/YNL065W\">YNL065W</a></td> <td align=\"left\" nowrap=\"\">1 of 47 genes, 2.13%</td> <td align=\"left\" nowrap=\"\">45 of 6479 annotated genes, 0.69%</td></tr> \n",
    "<tr style=\"color:black;\", bgcolor=\"DEB887\"><td align=\"left\" nowrap=\"\"><a target=\"infowin\" href=\"https://www.yeastgenome.org/go/GO:0006811\">monoatomic ion transport</a> ( GO:0006811 )</td> <td align=\"left\"><a target=\"infowin\" href= \"https://www.yeastgenome.org/locus/YNR060W\">YNR060W</a></td> <td align=\"left\" nowrap=\"\">1 of 47 genes, 2.13%</td> <td align=\"left\" nowrap=\"\">97 of 6479 annotated genes, 1.50%</td></tr> \n",
    "<tr style=\"color:black;\", bgcolor=\"FFE4C4\"><td align=\"left\" nowrap=\"\"><a target=\"infowin\" href=\"https://www.yeastgenome.org/go/GO:0006091\">generation of precursor metabolites and energy</a> ( GO:0006091 )</td> <td align=\"left\"><a target=\"infowin\" href= \"https://www.yeastgenome.org/locus/YOL136C\">YOL136C</a></td> <td align=\"left\" nowrap=\"\">1 of 47 genes, 2.13%</td> <td align=\"left\" nowrap=\"\">82 of 6479 annotated genes, 1.27%</td></tr> \n",
    "<tr style=\"color:black;\", bgcolor=\"DEB887\"><td align=\"left\" nowrap=\"\"><a target=\"infowin\" href=\"https://www.yeastgenome.org/go/GO:0002181\">cytoplasmic translation</a> ( GO:0002181 )</td> <td align=\"left\"><a target=\"infowin\" href= \"https://www.yeastgenome.org/locus/YLR264W\">YLR264W</a></td> <td align=\"left\" nowrap=\"\">1 of 47 genes, 2.13%</td> <td align=\"left\" nowrap=\"\">169 of 6479 annotated genes, 2.61%</td></tr> \n",
    "<tr style=\"color:black;\", bgcolor=\"FFE4C4\"><td align=\"left\" nowrap=\"\"><a target=\"infowin\" href=\"https://www.yeastgenome.org/go/GO:0032787\">monocarboxylic acid metabolic process</a> ( GO:0032787 )</td> <td align=\"left\"><a target=\"infowin\" href= \"https://www.yeastgenome.org/locus/YOL136C\">YOL136C</a></td> <td align=\"left\" nowrap=\"\">1 of 47 genes, 2.13%</td> <td align=\"left\" nowrap=\"\">135 of 6479 annotated genes, 2.08%</td></tr> \n",
    "<tr style=\"color:black;\", bgcolor=\"DEB887\"><td align=\"left\" nowrap=\"\"><a target=\"infowin\" href=\"https://www.yeastgenome.org/go/GO:0006310\">DNA recombination</a> ( GO:0006310 )</td> <td align=\"left\"><a target=\"infowin\" href= \"https://www.yeastgenome.org/locus/YGR159C\">YGR159C</a></td> <td align=\"left\" nowrap=\"\">1 of 47 genes, 2.13%</td> <td align=\"left\" nowrap=\"\">193 of 6479 annotated genes, 2.98%</td></tr>\n",
    "</table>\n",
    "</center>\n",
    "\n",
    "</body></html>"
   ]
  },
  {
   "cell_type": "markdown",
   "metadata": {},
   "source": [
    "All top rows contain GO terms responsible for ribosomal interactions which seems to be logically justified based on what we expect from the fermenting yeast."
   ]
  }
 ],
 "metadata": {
  "language_info": {
   "name": "python"
  }
 },
 "nbformat": 4,
 "nbformat_minor": 2
}
